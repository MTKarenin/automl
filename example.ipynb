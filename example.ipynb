{
 "cells": [
  {
   "cell_type": "code",
   "execution_count": 1,
   "metadata": {},
   "outputs": [],
   "source": [
    "import json\n",
    "import time\n",
    "import pickle\n",
    "import requests\n",
    "import pandas as pd\n",
    "from sklearn import model_selection, metrics"
   ]
  },
  {
   "cell_type": "markdown",
   "metadata": {},
   "source": [
    "### Set sevice coordinates"
   ]
  },
  {
   "cell_type": "code",
   "execution_count": 2,
   "metadata": {},
   "outputs": [],
   "source": [
    "url = 'http://localhost:5000/'"
   ]
  },
  {
   "cell_type": "markdown",
   "metadata": {},
   "source": [
    "### Preprocess Data"
   ]
  },
  {
   "cell_type": "code",
   "execution_count": 3,
   "metadata": {},
   "outputs": [],
   "source": [
    "df = pd.read_csv('data/train.csv')  # For example i will use Titanic dataset\n",
    "df = df.set_index('PassengerId')\n",
    "\n",
    "# Create dummy features\n",
    "df['IsMale'] = pd.get_dummies(df['Sex'])['male'] \n",
    "\n",
    "# fill missing data\n",
    "df['Age'] = df['Age'].fillna(df['Age'].median())"
   ]
  },
  {
   "cell_type": "markdown",
   "metadata": {},
   "source": [
    "### Create request body"
   ]
  },
  {
   "cell_type": "code",
   "execution_count": 4,
   "metadata": {},
   "outputs": [],
   "source": [
    "target = 'Survived'\n",
    "features = ['Pclass', 'Age', 'SibSp', 'Parch', 'Fare', 'IsMale']\n",
    "\n",
    "df_train, df_test = model_selection.train_test_split(df)\n",
    "\n",
    "data = json.dumps({'metric': 'accuracy', 'data': df_train.to_json(), 'features': features, 'target': target})"
   ]
  },
  {
   "cell_type": "markdown",
   "metadata": {},
   "source": [
    "### Train model"
   ]
  },
  {
   "cell_type": "code",
   "execution_count": 5,
   "metadata": {},
   "outputs": [
    {
     "name": "stdout",
     "output_type": "stream",
     "text": [
      "{\"model_id\":\"da1e9a49-76f8-4d4f-8e63-25c019377f39\",\"score\":0.8323353293413174,\"score_type\":\"accuracy\"}\n",
      "\n"
     ]
    }
   ],
   "source": [
    "# Send post request to start_calculation\n",
    "r = requests.post(f'{url}/start_classification', data)\n",
    "model_id = r.json()['model_id'] \n",
    "\n",
    "# wait while model is being trained\n",
    "while r.status_code != 200:\n",
    "    time.sleep(5)\n",
    "    r = requests.get(f'{url}/get_model', params={'model_id': model_id})\n",
    "\n",
    "# load model from binary file\n",
    "model = pickle.loads(r.content)\n",
    "\n",
    "# You can check this model final score on test data\n",
    "score = requests.get(f'{url}/get_score', params={'model_id': model_id})\n",
    "print(score.text)"
   ]
  },
  {
   "cell_type": "markdown",
   "metadata": {},
   "source": [
    "### Use this model"
   ]
  },
  {
   "cell_type": "code",
   "execution_count": 6,
   "metadata": {},
   "outputs": [
    {
     "data": {
      "text/plain": [
       "0.8161434977578476"
      ]
     },
     "execution_count": 6,
     "metadata": {},
     "output_type": "execute_result"
    }
   ],
   "source": [
    "metrics.accuracy_score(df_test[target], model.predict(df_test[features]))"
   ]
  }
 ],
 "metadata": {
  "interpreter": {
   "hash": "cc56623c4b25dcaea5054316975f3a43b64274adeca20b48ef308fe6f92834b1"
  },
  "kernelspec": {
   "display_name": "Python 3.9.9 64-bit ('venv': venv)",
   "language": "python",
   "name": "python3"
  },
  "language_info": {
   "codemirror_mode": {
    "name": "ipython",
    "version": 3
   },
   "file_extension": ".py",
   "mimetype": "text/x-python",
   "name": "python",
   "nbconvert_exporter": "python",
   "pygments_lexer": "ipython3",
   "version": "3.9.9"
  },
  "orig_nbformat": 4
 },
 "nbformat": 4,
 "nbformat_minor": 2
}
